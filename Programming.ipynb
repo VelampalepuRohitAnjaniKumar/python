{
 "cells": [
  {
   "cell_type": "markdown",
   "metadata": {},
   "source": [
    "### Multiplication  without Using  Arthmetic Operator *"
   ]
  },
  {
   "cell_type": "code",
   "execution_count": null,
   "metadata": {},
   "outputs": [
    {
     "name": "stdout",
     "output_type": "stream",
     "text": [
      "48\n"
     ]
    }
   ],
   "source": [
    "#Multiplication without *\n",
    "\n",
    "\n",
    "r=int(input())\n",
    "s=int(input())\n",
    "mul=0\n",
    "\n",
    "for i in range(1,s+1):\n",
    "     mul=mul+r\n",
    "\n",
    "print(mul)"
   ]
  },
  {
   "cell_type": "code",
   "execution_count": null,
   "metadata": {},
   "outputs": [
    {
     "data": {
      "text/plain": [
       "96"
      ]
     },
     "execution_count": 14,
     "metadata": {},
     "output_type": "execute_result"
    }
   ],
   "source": [
    "# Using Function\n",
    "\n",
    "def mul(x,y):\n",
    "    if y>0:\n",
    "        return (x + mul(x,y-1))\n",
    "        \n",
    "    elif y==0:\n",
    "        return 0\n",
    "\n",
    "    else:\n",
    "        return -mul(x,-y)\n",
    "        \n",
    "mul(6,16)"
   ]
  },
  {
   "cell_type": "markdown",
   "metadata": {},
   "source": [
    "### Reverse of a Number"
   ]
  },
  {
   "cell_type": "code",
   "execution_count": null,
   "metadata": {},
   "outputs": [
    {
     "name": "stdout",
     "output_type": "stream",
     "text": [
      "341\n"
     ]
    }
   ],
   "source": [
    "n=int(input())\n",
    "reverse=0\n",
    "\n",
    "while True:\n",
    "    r=n%10\n",
    "    n=n//10\n",
    "    reverse=reverse*10+r\n",
    "\n",
    "    if n==0:\n",
    "        print(reverse)\n",
    "        break"
   ]
  },
  {
   "cell_type": "code",
   "execution_count": null,
   "metadata": {},
   "outputs": [],
   "source": [
    "# using Functions\n"
   ]
  },
  {
   "cell_type": "markdown",
   "metadata": {},
   "source": [
    "### Armstrong Number\n"
   ]
  },
  {
   "cell_type": "code",
   "execution_count": null,
   "metadata": {},
   "outputs": [],
   "source": []
  },
  {
   "cell_type": "markdown",
   "metadata": {},
   "source": [
    "### Fibonacci Series"
   ]
  },
  {
   "cell_type": "code",
   "execution_count": 6,
   "metadata": {},
   "outputs": [
    {
     "name": "stdout",
     "output_type": "stream",
     "text": [
      "0 1 1 2 3 5 8 13 21 34 "
     ]
    }
   ],
   "source": [
    "n=int(input())\n",
    "a=0\n",
    "b=1\n",
    "c=0\n",
    "\n",
    "for i in range(0,n):\n",
    "    print(c,end=' ')\n",
    "    a=b\n",
    "    b=c\n",
    "    c=a+b"
   ]
  },
  {
   "cell_type": "markdown",
   "metadata": {},
   "source": [
    "### Individual Digits"
   ]
  },
  {
   "cell_type": "code",
   "execution_count": 10,
   "metadata": {},
   "outputs": [
    {
     "name": "stdout",
     "output_type": "stream",
     "text": [
      "6\n",
      "9\n",
      "8\n",
      "4\n"
     ]
    }
   ],
   "source": [
    "n=int(input())\n",
    "while True:\n",
    "    r=n%10\n",
    "    n=n//10\n",
    "    print(r)\n",
    "    if n==0:\n",
    "        break"
   ]
  },
  {
   "cell_type": "code",
   "execution_count": 12,
   "metadata": {},
   "outputs": [
    {
     "name": "stdout",
     "output_type": "stream",
     "text": [
      "Sum odd = 6\n",
      "Sum even = 10\n"
     ]
    }
   ],
   "source": [
    "def reverse(n):\n",
    "    rev = 0\n",
    "    while (n != 0):\n",
    "        r=(n % 10)\n",
    "        rev = (rev * 10) + r\n",
    "        n //= 10\n",
    "    return rev\n",
    "\n",
    "def getSum(n):\n",
    " \n",
    "    n = reverse(n)\n",
    "    oddsum = 0\n",
    "    evensum = 0\n",
    "    c = 1\n",
    " \n",
    "    while (n != 0):\n",
    "        if (c % 2 == 0):\n",
    "            evensum += n % 10\n",
    "        else:\n",
    "            oddsum += n % 10\n",
    "        n //= 10\n",
    "        c += 1\n",
    "\n",
    "    print(\"Sum odd =\", oddsum)\n",
    "    print(\"Sum even =\", evensum)\n",
    "\n",
    "n=int(input())\n",
    "getSum(n)"
   ]
  }
 ],
 "metadata": {
  "kernelspec": {
   "display_name": "Python 3.9.7 ('base')",
   "language": "python",
   "name": "python3"
  },
  "language_info": {
   "codemirror_mode": {
    "name": "ipython",
    "version": 3
   },
   "file_extension": ".py",
   "mimetype": "text/x-python",
   "name": "python",
   "nbconvert_exporter": "python",
   "pygments_lexer": "ipython3",
   "version": "3.9.7"
  },
  "orig_nbformat": 4,
  "vscode": {
   "interpreter": {
    "hash": "e71547eb8e7a90a87d0183098d7ff6e840abf875b38f1fbd362b6ad19fe16c20"
   }
  }
 },
 "nbformat": 4,
 "nbformat_minor": 2
}
