{
 "cells": [
  {
   "cell_type": "markdown",
   "metadata": {},
   "source": [
    "### Multiplication  without Using  Arthmetic Operator *"
   ]
  },
  {
   "cell_type": "code",
   "execution_count": 6,
   "metadata": {},
   "outputs": [
    {
     "name": "stdout",
     "output_type": "stream",
     "text": [
      "48\n"
     ]
    }
   ],
   "source": [
    "#Multiplication without *\n",
    "\n",
    "\n",
    "r=int(input())\n",
    "s=int(input())\n",
    "mul=0\n",
    "\n",
    "for i in range(1,s+1):\n",
    "     mul=mul+r\n",
    "\n",
    "print(mul)"
   ]
  },
  {
   "cell_type": "code",
   "execution_count": 14,
   "metadata": {},
   "outputs": [
    {
     "data": {
      "text/plain": [
       "96"
      ]
     },
     "execution_count": 14,
     "metadata": {},
     "output_type": "execute_result"
    }
   ],
   "source": [
    "# Using Function\n",
    "\n",
    "def mul(x,y):\n",
    "    if y>0:\n",
    "        return (x + mul(x,y-1))\n",
    "        \n",
    "    elif y==0:\n",
    "        return 0\n",
    "\n",
    "    else:\n",
    "        return -mul(x,-y)\n",
    "        \n",
    "mul(6,16)"
   ]
  },
  {
   "cell_type": "code",
   "execution_count": null,
   "metadata": {},
   "outputs": [],
   "source": []
  }
 ],
 "metadata": {
  "kernelspec": {
   "display_name": "Python 3.9.7 ('base')",
   "language": "python",
   "name": "python3"
  },
  "language_info": {
   "codemirror_mode": {
    "name": "ipython",
    "version": 3
   },
   "file_extension": ".py",
   "mimetype": "text/x-python",
   "name": "python",
   "nbconvert_exporter": "python",
   "pygments_lexer": "ipython3",
   "version": "3.9.7"
  },
  "orig_nbformat": 4,
  "vscode": {
   "interpreter": {
    "hash": "e71547eb8e7a90a87d0183098d7ff6e840abf875b38f1fbd362b6ad19fe16c20"
   }
  }
 },
 "nbformat": 4,
 "nbformat_minor": 2
}
