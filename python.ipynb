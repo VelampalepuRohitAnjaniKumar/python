{
 "cells": [
  {
   "cell_type": "code",
   "execution_count": 2,
   "metadata": {},
   "outputs": [
    {
     "name": "stdout",
     "output_type": "stream",
     "text": [
      "Welcome to Python\n"
     ]
    }
   ],
   "source": [
    "print('Welcome to Python')"
   ]
  },
  {
   "cell_type": "markdown",
   "metadata": {},
   "source": [
    "Data Types"
   ]
  },
  {
   "cell_type": "code",
   "execution_count": 5,
   "metadata": {},
   "outputs": [
    {
     "name": "stdout",
     "output_type": "stream",
     "text": [
      "<class 'int'>\n",
      "<class 'float'>\n"
     ]
    },
    {
     "data": {
      "text/plain": [
       "complex"
      ]
     },
     "execution_count": 5,
     "metadata": {},
     "output_type": "execute_result"
    }
   ],
   "source": [
    "a=143\n",
    "b=75.8\n",
    "c=2+3j\n",
    "print(type(a))\n",
    "print(type(b))\n",
    "\n",
    "type(c)"
   ]
  },
  {
   "cell_type": "code",
   "execution_count": 8,
   "metadata": {},
   "outputs": [
    {
     "data": {
      "text/plain": [
       "'rohit  anjani'"
      ]
     },
     "execution_count": 8,
     "metadata": {},
     "output_type": "execute_result"
    }
   ],
   "source": [
    "x='rohit'\n",
    "y='anjani'\n",
    "\n",
    "x+ '  ' +y"
   ]
  },
  {
   "cell_type": "code",
   "execution_count": 9,
   "metadata": {},
   "outputs": [
    {
     "name": "stdout",
     "output_type": "stream",
     "text": [
      "ROHIT ANJANI\n"
     ]
    }
   ],
   "source": [
    "print((x+\" \"+y).upper())"
   ]
  },
  {
   "cell_type": "code",
   "execution_count": 14,
   "metadata": {},
   "outputs": [
    {
     "data": {
      "text/plain": [
       "[90, 85, 'rohit', 'purple']"
      ]
     },
     "execution_count": 14,
     "metadata": {},
     "output_type": "execute_result"
    }
   ],
   "source": [
    "#list\n",
    "s=[78,85,'rohit','purple']\n",
    "s[0]=90 #replace 78 with 90\n",
    "s"
   ]
  },
  {
   "cell_type": "code",
   "execution_count": 17,
   "metadata": {},
   "outputs": [
    {
     "data": {
      "text/plain": [
       "(78, 85, 'rohit', 'purple')"
      ]
     },
     "execution_count": 17,
     "metadata": {},
     "output_type": "execute_result"
    }
   ],
   "source": [
    "#tuple\n",
    "s=(78,85,'rohit','purple')\n",
    "s"
   ]
  },
  {
   "cell_type": "code",
   "execution_count": 20,
   "metadata": {},
   "outputs": [
    {
     "data": {
      "text/plain": [
       "{10, 11, 143, 4, 412, 49, 5, 6, 77, 8, 85, 88, 9, 'ro'}"
      ]
     },
     "execution_count": 20,
     "metadata": {},
     "output_type": "execute_result"
    }
   ],
   "source": [
    "#set\n",
    "r={8,8,8,5,4,5,6,5,9,49,10,143,412,77,77,85,11,88,8,'ro','ro'}\n",
    "r #it prints unique numbers in order"
   ]
  },
  {
   "cell_type": "code",
   "execution_count": 24,
   "metadata": {},
   "outputs": [
    {
     "data": {
      "text/plain": [
       "'vinay'"
      ]
     },
     "execution_count": 24,
     "metadata": {},
     "output_type": "execute_result"
    }
   ],
   "source": [
    "#dictionaries\n",
    "m={2:\"mahesh\",4:\"vinay\",6:'rohit',7:8888}\n",
    "m[4] #we can fetch data using key \n"
   ]
  },
  {
   "cell_type": "markdown",
   "metadata": {},
   "source": [
    "Arthmetic Operators"
   ]
  },
  {
   "cell_type": "code",
   "execution_count": 1,
   "metadata": {},
   "outputs": [
    {
     "data": {
      "text/plain": [
       "14"
      ]
     },
     "execution_count": 1,
     "metadata": {},
     "output_type": "execute_result"
    }
   ],
   "source": [
    "#add\n",
    "9+5"
   ]
  },
  {
   "cell_type": "code",
   "execution_count": 2,
   "metadata": {},
   "outputs": [
    {
     "data": {
      "text/plain": [
       "45"
      ]
     },
     "execution_count": 2,
     "metadata": {},
     "output_type": "execute_result"
    }
   ],
   "source": [
    "#multiply\n",
    "9*5"
   ]
  },
  {
   "cell_type": "code",
   "execution_count": 3,
   "metadata": {},
   "outputs": [
    {
     "data": {
      "text/plain": [
       "1.8"
      ]
     },
     "execution_count": 3,
     "metadata": {},
     "output_type": "execute_result"
    }
   ],
   "source": [
    "#divison\n",
    "9/5"
   ]
  },
  {
   "cell_type": "code",
   "execution_count": 4,
   "metadata": {},
   "outputs": [
    {
     "data": {
      "text/plain": [
       "4"
      ]
     },
     "execution_count": 4,
     "metadata": {},
     "output_type": "execute_result"
    }
   ],
   "source": [
    "#remainder\n",
    "\n",
    "9%5"
   ]
  },
  {
   "cell_type": "code",
   "execution_count": 6,
   "metadata": {},
   "outputs": [
    {
     "data": {
      "text/plain": [
       "1"
      ]
     },
     "execution_count": 6,
     "metadata": {},
     "output_type": "execute_result"
    }
   ],
   "source": [
    "#quotient\n",
    "9//5"
   ]
  },
  {
   "cell_type": "code",
   "execution_count": 15,
   "metadata": {},
   "outputs": [
    {
     "data": {
      "text/plain": [
       "3025"
      ]
     },
     "execution_count": 15,
     "metadata": {},
     "output_type": "execute_result"
    }
   ],
   "source": [
    "#square\n",
    "x=55\n",
    "z=x**2\n",
    "z"
   ]
  },
  {
   "cell_type": "code",
   "execution_count": 16,
   "metadata": {},
   "outputs": [
    {
     "data": {
      "text/plain": [
       "(9628.195450404382+0.5938854672327115j)"
      ]
     },
     "execution_count": 16,
     "metadata": {},
     "output_type": "execute_result"
    }
   ],
   "source": [
    "#complex maths\n",
    "x=98\n",
    "y=25\n",
    "z=x**2+9**4j+y\n",
    "z"
   ]
  },
  {
   "cell_type": "markdown",
   "metadata": {},
   "source": [
    "Conditional Statements"
   ]
  },
  {
   "cell_type": "code",
   "execution_count": 17,
   "metadata": {},
   "outputs": [
    {
     "name": "stdout",
     "output_type": "stream",
     "text": [
      "Order\n"
     ]
    }
   ],
   "source": [
    "i=\"late\"\n",
    "if(i==\"early\"):\n",
    "    print(\"Cook\")\n",
    "else:\n",
    "    print(\"Order\")"
   ]
  },
  {
   "cell_type": "code",
   "execution_count": 19,
   "metadata": {},
   "outputs": [
    {
     "name": "stdout",
     "output_type": "stream",
     "text": [
      "Average\n"
     ]
    }
   ],
   "source": [
    "#if elif else\n",
    "\n",
    "i=int(input())\n",
    "\n",
    "if(i>=80):\n",
    "    print(\"Excellent\")\n",
    "elif(80>i>=60):\n",
    "    print(\"Good\")\n",
    "elif(60>i>=40):\n",
    "    print(\"Average\")\n",
    "else:\n",
    "    print(\"Bad\")"
   ]
  },
  {
   "cell_type": "code",
   "execution_count": 22,
   "metadata": {},
   "outputs": [
    {
     "name": "stdout",
     "output_type": "stream",
     "text": [
      "Greater than 50 but not even\n"
     ]
    }
   ],
   "source": [
    "\n",
    "#nested Conditions\n",
    "\n",
    "s=int(input())\n",
    "\n",
    "if (s>=50):\n",
    "    if(s%2==0):\n",
    "        print(\"Greater than 50 and even Number\")\n",
    "    else:\n",
    "        print(\"Greater than 50 but not even\")\n",
    "else:\n",
    "    if(s%2!=0):\n",
    "        print(\"Less than 50 and odd number\")\n",
    "    else:\n",
    "        print(\"Less than 50 and not odd number\")"
   ]
  },
  {
   "cell_type": "markdown",
   "metadata": {},
   "source": [
    "Iterative Statements"
   ]
  },
  {
   "cell_type": "code",
   "execution_count": 23,
   "metadata": {},
   "outputs": [
    {
     "name": "stdout",
     "output_type": "stream",
     "text": [
      "Hello Rohit\n",
      "Hello Rohit\n",
      "Hello Rohit\n",
      "Hello Rohit\n",
      "Hello Rohit\n",
      "Hello Rohit\n",
      "Hello Rohit\n",
      "Hello Rohit\n",
      "Hello Rohit\n",
      "Hello Rohit\n"
     ]
    }
   ],
   "source": [
    "n =10\n",
    "for i in range (n):\n",
    "    print(\"Hello Rohit\") "
   ]
  },
  {
   "cell_type": "code",
   "execution_count": 29,
   "metadata": {},
   "outputs": [
    {
     "name": "stdout",
     "output_type": "stream",
     "text": [
      "Hi\n",
      "Hi\n",
      "Hi\n"
     ]
    }
   ],
   "source": [
    "for i in range (0,15,5):\n",
    "    print(\"Hi\")"
   ]
  },
  {
   "cell_type": "code",
   "execution_count": 31,
   "metadata": {},
   "outputs": [
    {
     "name": "stdout",
     "output_type": "stream",
     "text": [
      "36288000\n"
     ]
    }
   ],
   "source": [
    "# factorial of a Number\n",
    "\n",
    "\n",
    "fac=10\n",
    "for i in range(1,11):\n",
    "    fac=fac*i\n",
    "print(fac)"
   ]
  },
  {
   "cell_type": "markdown",
   "metadata": {},
   "source": [
    "Functions"
   ]
  },
  {
   "cell_type": "code",
   "execution_count": 37,
   "metadata": {},
   "outputs": [
    {
     "data": {
      "text/plain": [
       "36"
      ]
     },
     "execution_count": 37,
     "metadata": {},
     "output_type": "execute_result"
    }
   ],
   "source": [
    "def square(s):\n",
    "    sq=s*s\n",
    "    return sq\n",
    "\n",
    "square(6)\n",
    "\n"
   ]
  },
  {
   "cell_type": "code",
   "execution_count": 43,
   "metadata": {},
   "outputs": [
    {
     "name": "stdout",
     "output_type": "stream",
     "text": [
      "Numberof combinations are : 210.0\n"
     ]
    }
   ],
   "source": [
    "#Combinations\n",
    "\n",
    "def factorial(value):\n",
    "    fac=1\n",
    "    for i in range (1,value+1):\n",
    "        fac=fac*i\n",
    "    return fac\n",
    "\n",
    "n= int(input())\n",
    "r=int(input())\n",
    "\n",
    "c=factorial(n)/(factorial(r)*factorial(n-r))\n",
    "\n",
    "print(\"Numberof combinations are : \"+str(c))\n"
   ]
  },
  {
   "cell_type": "code",
   "execution_count": 45,
   "metadata": {},
   "outputs": [
    {
     "name": "stdout",
     "output_type": "stream",
     "text": [
      "50\n"
     ]
    }
   ],
   "source": [
    "def num(x,y):\n",
    "    if x>y:\n",
    "        print (x)\n",
    "    elif x==y:\n",
    "        print(\"Equals\")\n",
    "    else:\n",
    "        print(y)\n",
    "\n",
    "num(50,30)\n",
    "   "
   ]
  }
 ],
 "metadata": {
  "kernelspec": {
   "display_name": "Python 3.9.7 ('base')",
   "language": "python",
   "name": "python3"
  },
  "language_info": {
   "codemirror_mode": {
    "name": "ipython",
    "version": 3
   },
   "file_extension": ".py",
   "mimetype": "text/x-python",
   "name": "python",
   "nbconvert_exporter": "python",
   "pygments_lexer": "ipython3",
   "version": "3.9.7"
  },
  "orig_nbformat": 4,
  "vscode": {
   "interpreter": {
    "hash": "e71547eb8e7a90a87d0183098d7ff6e840abf875b38f1fbd362b6ad19fe16c20"
   }
  }
 },
 "nbformat": 4,
 "nbformat_minor": 2
}
